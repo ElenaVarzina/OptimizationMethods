{
 "cells": [
  {
   "cell_type": "code",
   "execution_count": 26,
   "metadata": {},
   "outputs": [],
   "source": [
    "import numpy as np\n",
    "import inspect\n",
    "import matplotlib.pyplot as plt\n",
    "plt.style.use('seaborn-white')\n",
    "\n",
    "from math import exp, sqrt\n",
    "from sympy import *\n",
    "from datetime import datetime"
   ]
  },
  {
   "cell_type": "markdown",
   "metadata": {},
   "source": [
    "# Лабораторная №2"
   ]
  },
  {
   "cell_type": "markdown",
   "metadata": {},
   "source": [
    "## Utils"
   ]
  },
  {
   "cell_type": "markdown",
   "metadata": {},
   "source": [
    "### Полезные ссылки\n",
    "\n",
    "- [условие](http://mathdep.ifmo.ru/wp-content/uploads/2021/03/lab_2_optimization.pdf)\n",
    "- [метод ньютона](http://fourier.eng.hmc.edu/e176/lectures/ch3/node6.html)"
   ]
  },
  {
   "cell_type": "markdown",
   "metadata": {},
   "source": [
    "### Одномерные методы поиска"
   ]
  },
  {
   "cell_type": "code",
   "execution_count": 27,
   "metadata": {
    "pycharm": {
     "name": "#%%\n"
    }
   },
   "outputs": [],
   "source": [
    "def print_iter(n_iter, a, b, l):\n",
    "    print(str(n_iter) + ': ' + '[' + str(a) + ', ' + str(b) + ']: ' + str(l))"
   ]
  },
  {
   "cell_type": "code",
   "execution_count": 28,
   "metadata": {},
   "outputs": [],
   "source": [
    "\n",
    "def get_value(fdict, f, x: float):\n",
    "    if (x not in fdict):\n",
    "        v = f(x)\n",
    "        fdict[x] = v\n",
    "    else:\n",
    "        v = fdict[x]\n",
    "    \n",
    "    return v, fdict"
   ]
  },
  {
   "cell_type": "code",
   "execution_count": 29,
   "metadata": {},
   "outputs": [],
   "source": [
    "def get_next_interval_base(fdict, f, a: float, b: float, x1: float, x2: float):\n",
    "    v1, fdict = get_value(fdict, f, x1)\n",
    "    v2, fdict = get_value(fdict, f, x2)\n",
    "    \n",
    "    if (v1 < v2):\n",
    "        return fdict, a, x2\n",
    "    elif (v1 > v2):\n",
    "        return fdict, x1, b\n",
    "    else:\n",
    "        return fdict, x1, x2"
   ]
  },
  {
   "cell_type": "code",
   "execution_count": 30,
   "metadata": {},
   "outputs": [],
   "source": [
    "def bisection_search(f, a, b, verbose=False, eps=1e-3):\n",
    "    fdict = {}\n",
    "    step = 0\n",
    "    delta = eps/4\n",
    "    \n",
    "    if (verbose):\n",
    "        print_iter(step, a, b, 0)\n",
    "        \n",
    "    while (abs(a - b) > eps):\n",
    "        pred = a-b\n",
    "        x1 = ((a + b) / 2) - delta\n",
    "        x2 = ((a + b) / 2) + delta\n",
    "        fdict, a, b = get_next_interval_base(fdict, f, a, b, x1, x2)\n",
    "        step += 1\n",
    "        if (verbose):\n",
    "            print_iter(step, a, b, (a-b)/pred)\n",
    "       \n",
    "    return (a+b)/2, step, len(fdict)"
   ]
  },
  {
   "cell_type": "code",
   "execution_count": 31,
   "metadata": {},
   "outputs": [],
   "source": [
    "def fib(n):\n",
    "    return 1/sqrt(5) * (((1+sqrt(5))/2)**n - ((1-sqrt(5))/2)**n)\n",
    "\n",
    "\n",
    "def fib_search(f, a, b, verbose=False, eps=1e-3):\n",
    "    fdict = {}\n",
    "    \n",
    "    n = 0\n",
    "    while (fib(n+2) <= (b-a)/eps):\n",
    "        n += 1\n",
    "    \n",
    "    if (verbose):\n",
    "        print_iter(0, a, b, 1)\n",
    "    x1 = a + fib(n)*(b-a)/fib(n+2)\n",
    "    x2 = a + fib(n+1)*(b-a)/fib(n+2)\n",
    "    step = 1\n",
    "    \n",
    "    while (abs(a - b) > eps):\n",
    "        pred = a-b\n",
    "        fdict, a, b = get_next_interval_base(fdict, f, a, b, x1, x2)\n",
    "        if (a == x1):\n",
    "            x1 = x2\n",
    "            x2 = a + fib(n-step+2)*(b-a)/fib(n-step+3)\n",
    "        else:\n",
    "            x2 = x1\n",
    "            x1 = a + fib(n-step+1)*(b-a)/fib(n-step+3)\n",
    "        if (verbose):\n",
    "            print_iter(step, a, b, (a-b)/pred)\n",
    "        step += 1\n",
    "        \n",
    "    return (a+b)/2, step-1, len(fdict)"
   ]
  },
  {
   "cell_type": "markdown",
   "metadata": {},
   "source": [
    "### Finding derivative"
   ]
  },
  {
   "cell_type": "code",
   "execution_count": 32,
   "metadata": {},
   "outputs": [],
   "source": [
    "def get_dfs(func):\n",
    "    arg_symbols = symbols(inspect.getfullargspec(func).args)\n",
    "    sym_func = func(*arg_symbols)\n",
    "\n",
    "    return [lambdify(arg_symbols, sym_func.diff(a)) for a in arg_symbols]"
   ]
  },
  {
   "cell_type": "code",
   "execution_count": 33,
   "metadata": {},
   "outputs": [],
   "source": [
    "def calc_df(func, params):\n",
    "    dfs = get_dfs(func)\n",
    "    res = []\n",
    "    for df in dfs:\n",
    "        res.append(df(*params))\n",
    "    return res"
   ]
  },
  {
   "cell_type": "code",
   "execution_count": 34,
   "metadata": {},
   "outputs": [],
   "source": [
    "def calc_inv_hessian(func, params):\n",
    "    dfs = get_dfs(func)\n",
    "    n = len(dfs)\n",
    "    \n",
    "    h = [[0 for x in range(n)] for y in range(n)] \n",
    "    for i in range(len(dfs)):\n",
    "        h[i] = get_dfs(dfs[i])\n",
    "    \n",
    "    for i in range(n):\n",
    "        for j in range(n):\n",
    "            h[i][j] = h[i][j](*params)\n",
    "\n",
    "    inv_h = np.linalg.inv(h)\n",
    "    \n",
    "    return inv_h "
   ]
  },
  {
   "cell_type": "code",
   "execution_count": 35,
   "metadata": {},
   "outputs": [],
   "source": [
    "def make_hessian_positive(h):\n",
    "    eps = 1e-3\n",
    "    \n",
    "    while (np.linalg.norm(h) < 0):\n",
    "        h += eps*np.eye(*h.shape)\n",
    "        eps *= 2\n",
    "        \n",
    "    return h"
   ]
  },
  {
   "cell_type": "markdown",
   "metadata": {},
   "source": [
    "### Visualization methods"
   ]
  },
  {
   "cell_type": "code",
   "execution_count": 36,
   "metadata": {},
   "outputs": [],
   "source": [
    "def print_res(res, step, time, xs):\n",
    "    print('Result:', res)\n",
    "    print('Total iterations: ', step)\n",
    "    print('Time: ', time)\n",
    "    #print('Steps: ', xs)"
   ]
  },
  {
   "cell_type": "code",
   "execution_count": 37,
   "metadata": {},
   "outputs": [],
   "source": [
    "def get_function_from_symmetric_matrix(Q):\n",
    "    # [[4, 1], [1, 3]]  == 4x1^2 + 2x1x2 + 3x2^2\n",
    "\n",
    "    return lambda x, y: (x**2)*Q[0][0] + 2*x*y*Q[0][1] + (y**2)*Q[1][1]\n",
    "\n",
    "\n",
    "def draw_countors_plot_with_steps(coords, f, name, classic = True):\n",
    "    x_min = -8\n",
    "    y_min = -8\n",
    "    x_max = 5\n",
    "    y_max = 5\n",
    "    delta = 20\n",
    "    \n",
    "    \n",
    "    x = np.linspace(x_min, x_max, delta)\n",
    "    y = np.linspace(y_min, y_max, delta)\n",
    "    X, Y = np.meshgrid(x, y)\n",
    "    \n",
    "    if (classic):\n",
    "        z = f\n",
    "    else:\n",
    "        z = get_function_from_symmetric_matrix(f) \n",
    "        \n",
    "    Z = z(X, Y)\n",
    "\n",
    "    contours = plt.contour(X, Y, Z, 3, colors='black')\n",
    "    plt.clabel(contours, inline=True, fontsize=12)\n",
    "    plt.imshow(Z, extent=[x_min, x_max, y_min, y_max], origin='lower',\n",
    "               cmap='RdGy', alpha=0.5)\n",
    "    plt.colorbar();\n",
    "\n",
    "    cx, cy = zip(*coords)\n",
    "    plt.plot(cx, cy, color='black', marker='o')\n",
    "    plt.savefig('images/' + name + '_steps.png')\n",
    "    plt.show()"
   ]
  },
  {
   "cell_type": "markdown",
   "metadata": {},
   "source": [
    "### Test data"
   ]
  },
  {
   "cell_type": "code",
   "execution_count": 38,
   "metadata": {},
   "outputs": [],
   "source": [
    "f = [\n",
    "    lambda x, y: 100*(y-x)**2 + (1-x)**2,\n",
    "    lambda x, y: 100*(y-x**2)**2 + (1-x)**2,\n",
    "    lambda x, y: -(2*exp(-((x-1)/2)**2 - (y-1)**2) + 3*exp(-((x-2)/3)**2 - (((y-3)/2)**2)))\n",
    "]\n",
    "\n",
    "x = [\n",
    "    [2., 2.],\n",
    "    [1., 0.],\n",
    "    [-1., -1.],\n",
    "    [5., 3.],\n",
    "    [-2., 4.]\n",
    "]\n",
    "\n",
    "colors = ['red', 'blue', 'green']"
   ]
  },
  {
   "cell_type": "markdown",
   "source": [
    "## Метод Ньютона"
   ],
   "metadata": {
    "collapsed": false
   }
  },
  {
   "cell_type": "markdown",
   "metadata": {},
   "source": [
    "- функция должна быть дважды дифференцируемой"
   ]
  },
  {
   "cell_type": "code",
   "execution_count": 42,
   "metadata": {},
   "outputs": [],
   "source": [
    "def newtons_method(f, x, N=20, eps=1e-4):\n",
    "    step = 0\n",
    "    xs = [x]\n",
    "    lr = 1e-3\n",
    "    start_time = datetime.now()\n",
    "    \n",
    "    while (np.linalg.norm(calc_df(f,x)) > eps):\n",
    "        h = calc_inv_hessian(f,x)\n",
    "        if (np.linalg.norm(h) < 0):\n",
    "            h = make_hessian_positive(h)\n",
    "        \n",
    "        x -= np.dot(h, calc_df(f,x))\n",
    "        step += 1\n",
    "        xs.append(list(x))\n",
    "        \n",
    "    end_time = datetime.now()\n",
    "    time = (start_time - end_time).seconds\n",
    "    \n",
    "    return x, step, time, xs"
   ]
  },
  {
   "cell_type": "code",
   "execution_count": 43,
   "metadata": {},
   "outputs": [
    {
     "name": "stdout",
     "output_type": "stream",
     "text": [
      "Result: [1. 1.]\n",
      "Total iterations:  1\n",
      "Time:  86399\n"
     ]
    }
   ],
   "source": [
    "res, steps, time, coords = newtons_method(f[0], [2.,2.])\n",
    "\n",
    "print_res(res, steps, time, coords)"
   ]
  },
  {
   "cell_type": "code",
   "execution_count": 48,
   "metadata": {},
   "outputs": [
    {
     "data": {
      "image/png": "[encoded data removed]",
      "text/plain": [
       "<Figure size 432x288 with 2 Axes>"
      ]
     },
     "metadata": {},
     "output_type": "display_data"
    }
   ],
   "source": [
    "draw_countors_plot_with_steps(coords[0::100], f[0], 'newtons')"
   ]
  },
  {
   "cell_type": "markdown",
   "metadata": {},
   "source": [
    "## Градиентный спуск"
   ]
  },
  {
   "cell_type": "code",
   "execution_count": 49,
   "metadata": {},
   "outputs": [],
   "source": [
    "def classic_gradient_descent(f, x, eps=1e-4):\n",
    "    step = 0\n",
    "    lr = 1e-3\n",
    "    xs = [x]\n",
    "    start_time = datetime.now()\n",
    "    \n",
    "    while (np.linalg.norm(calc_df(f,x)) > eps):\n",
    "        x -= np.dot(lr, calc_df(f,x))\n",
    "        step += 1\n",
    "        xs.append(list(x))\n",
    "        \n",
    "    end_time = datetime.now()\n",
    "    time = (start_time - end_time).seconds\n",
    "    \n",
    "    return x, step, time, xs"
   ]
  },
  {
   "cell_type": "code",
   "execution_count": 50,
   "metadata": {},
   "outputs": [
    {
     "name": "stdout",
     "output_type": "stream",
     "text": [
      "Result: [1.00007068 1.00007103]\n",
      "Total iterations:  9574\n",
      "Time:  86354\n"
     ]
    }
   ],
   "source": [
    "res, steps, time, coords = classic_gradient_descent(f[0], [2.,2.])\n",
    "\n",
    "print_res(res, steps, time, coords)"
   ]
  },
  {
   "cell_type": "code",
   "execution_count": 51,
   "metadata": {},
   "outputs": [
    {
     "data": {
      "image/png": "[encoded data removed]",
      "text/plain": [
       "<Figure size 432x288 with 2 Axes>"
      ]
     },
     "metadata": {},
     "output_type": "display_data"
    }
   ],
   "source": [
    "draw_countors_plot_with_steps(coords[0::100], f[0], 'gradient')"
   ]
  },
  {
   "cell_type": "code",
   "execution_count": 52,
   "metadata": {},
   "outputs": [],
   "source": [
    "def quadratic_gradient_descent(Q, x, eps=1e-2):\n",
    "    step = 0\n",
    "    lr = 0.5\n",
    "    coef_crush =0.5\n",
    "    xs = [x]\n",
    "    \n",
    "    while (np.linalg.norm(Q * x) > eps):\n",
    "        x -= np.linalg.norm(np.eye(len(Q)) - lr*(coef_crush**step)*Q)*np.array(x)\n",
    "        step += 1\n",
    "        xs.append(list(x))\n",
    "        \n",
    "    return x, step, xs"
   ]
  },
  {
   "cell_type": "markdown",
   "metadata": {},
   "source": [
    "## Statistics"
   ]
  },
  {
   "cell_type": "code",
   "execution_count": 24,
   "metadata": {},
   "outputs": [],
   "source": [
    "methods = {'conjugate_vecs_method': conjugate_vecs_method, \n",
    "           'newtons_method': newtons_method, \n",
    "           'gradient_descent': classic_gradient_descent}"
   ]
  },
  {
   "cell_type": "code",
   "execution_count": 25,
   "metadata": {},
   "outputs": [
    {
     "name": "stderr",
     "output_type": "stream",
     "text": [
      "/Users/elena.varzina/University/DiplomaProgram/venv/lib/python3.7/site-packages/ipykernel_launcher.py:2: RuntimeWarning: overflow encountered in double_scalars\n",
      "  \n",
      "<string>:2: RuntimeWarning: invalid value encountered in double_scalars\n",
      "<string>:2: RuntimeWarning: invalid value encountered in double_scalars\n",
      "/Users/elena.varzina/University/DiplomaProgram/venv/lib/python3.7/site-packages/ipykernel_launcher.py:2: RuntimeWarning: invalid value encountered in double_scalars\n",
      "  \n",
      "/Users/elena.varzina/University/DiplomaProgram/venv/lib/python3.7/site-packages/ipykernel_launcher.py:14: RuntimeWarning: invalid value encountered in double_scalars\n",
      "  \n",
      "<string>:2: RuntimeWarning: invalid value encountered in double_scalars\n",
      "<string>:2: RuntimeWarning: invalid value encountered in double_scalars\n",
      "<string>:2: RuntimeWarning: overflow encountered in double_scalars\n",
      "<string>:2: RuntimeWarning: overflow encountered in double_scalars\n",
      "/Users/elena.varzina/University/DiplomaProgram/venv/lib/python3.7/site-packages/ipykernel_launcher.py:15: RuntimeWarning: invalid value encountered in add\n",
      "  from ipykernel import kernelapp as app\n",
      "/Users/elena.varzina/University/DiplomaProgram/venv/lib/python3.7/site-packages/ipykernel_launcher.py:3: RuntimeWarning: overflow encountered in double_scalars\n",
      "  This is separate from the ipykernel package so we can avoid doing imports until\n",
      "<string>:2: RuntimeWarning: overflow encountered in double_scalars\n",
      "<string>:2: RuntimeWarning: overflow encountered in double_scalars\n",
      "<string>:2: RuntimeWarning: overflow encountered in double_scalars\n",
      "<string>:2: RuntimeWarning: invalid value encountered in double_scalars\n",
      "<string>:2: RuntimeWarning: invalid value encountered in double_scalars\n",
      "/Users/elena.varzina/University/DiplomaProgram/venv/lib/python3.7/site-packages/ipykernel_launcher.py:3: RuntimeWarning: invalid value encountered in double_scalars\n",
      "  This is separate from the ipykernel package so we can avoid doing imports until\n",
      "<string>:2: RuntimeWarning: overflow encountered in double_scalars\n"
     ]
    },
    {
     "ename": "TypeError",
     "evalue": "loop of ufunc does not support argument 0 of type Add which has no callable exp method",
     "output_type": "error",
     "traceback": [
      "\u001B[0;31m---------------------------------------------------------------------------\u001B[0m",
      "\u001B[0;31mAttributeError\u001B[0m                            Traceback (most recent call last)",
      "\u001B[0;31mAttributeError\u001B[0m: 'Add' object has no attribute 'exp'",
      "\nThe above exception was the direct cause of the following exception:\n",
      "\u001B[0;31mTypeError\u001B[0m                                 Traceback (most recent call last)",
      "\u001B[0;32m<ipython-input-25-792f17e6a85d>\u001B[0m in \u001B[0;36m<module>\u001B[0;34m\u001B[0m\n\u001B[1;32m      7\u001B[0m     \u001B[0;32mfor\u001B[0m \u001B[0mf_\u001B[0m \u001B[0;32min\u001B[0m \u001B[0mf\u001B[0m\u001B[0;34m:\u001B[0m\u001B[0;34m\u001B[0m\u001B[0;34m\u001B[0m\u001B[0m\n\u001B[1;32m      8\u001B[0m         \u001B[0;32mfor\u001B[0m \u001B[0mx_\u001B[0m \u001B[0;32min\u001B[0m \u001B[0mx\u001B[0m\u001B[0;34m:\u001B[0m\u001B[0;34m\u001B[0m\u001B[0;34m\u001B[0m\u001B[0m\n\u001B[0;32m----> 9\u001B[0;31m             \u001B[0m_\u001B[0m\u001B[0;34m,\u001B[0m \u001B[0msteps\u001B[0m\u001B[0;34m,\u001B[0m \u001B[0mtime\u001B[0m\u001B[0;34m,\u001B[0m \u001B[0m_\u001B[0m \u001B[0;34m=\u001B[0m \u001B[0mm\u001B[0m\u001B[0;34m(\u001B[0m\u001B[0mf_\u001B[0m\u001B[0;34m,\u001B[0m \u001B[0mx_\u001B[0m\u001B[0;34m)\u001B[0m\u001B[0;34m\u001B[0m\u001B[0;34m\u001B[0m\u001B[0m\n\u001B[0m\u001B[1;32m     10\u001B[0m             \u001B[0mall_iters\u001B[0m\u001B[0;34m[\u001B[0m\u001B[0mname\u001B[0m\u001B[0;34m]\u001B[0m\u001B[0;34m.\u001B[0m\u001B[0mappend\u001B[0m\u001B[0;34m(\u001B[0m\u001B[0msteps\u001B[0m\u001B[0;34m)\u001B[0m\u001B[0;34m\u001B[0m\u001B[0;34m\u001B[0m\u001B[0m\n\u001B[1;32m     11\u001B[0m             \u001B[0mall_times\u001B[0m\u001B[0;34m[\u001B[0m\u001B[0mname\u001B[0m\u001B[0;34m]\u001B[0m\u001B[0;34m.\u001B[0m\u001B[0mappend\u001B[0m\u001B[0;34m(\u001B[0m\u001B[0mtime\u001B[0m\u001B[0;34m)\u001B[0m\u001B[0;34m\u001B[0m\u001B[0;34m\u001B[0m\u001B[0m\n",
      "\u001B[0;32m<ipython-input-17-beb02fac6732>\u001B[0m in \u001B[0;36mnewtons_method\u001B[0;34m(f, x, N, eps)\u001B[0m\n\u001B[1;32m      6\u001B[0m \u001B[0;34m\u001B[0m\u001B[0m\n\u001B[1;32m      7\u001B[0m     \u001B[0;32mwhile\u001B[0m \u001B[0;34m(\u001B[0m\u001B[0mnp\u001B[0m\u001B[0;34m.\u001B[0m\u001B[0mlinalg\u001B[0m\u001B[0;34m.\u001B[0m\u001B[0mnorm\u001B[0m\u001B[0;34m(\u001B[0m\u001B[0mcalc_df\u001B[0m\u001B[0;34m(\u001B[0m\u001B[0mf\u001B[0m\u001B[0;34m,\u001B[0m\u001B[0mx\u001B[0m\u001B[0;34m)\u001B[0m\u001B[0;34m)\u001B[0m \u001B[0;34m>\u001B[0m \u001B[0meps\u001B[0m\u001B[0;34m)\u001B[0m\u001B[0;34m:\u001B[0m\u001B[0;34m\u001B[0m\u001B[0;34m\u001B[0m\u001B[0m\n\u001B[0;32m----> 8\u001B[0;31m         \u001B[0mh\u001B[0m \u001B[0;34m=\u001B[0m \u001B[0mcalc_inv_hessian\u001B[0m\u001B[0;34m(\u001B[0m\u001B[0mf\u001B[0m\u001B[0;34m,\u001B[0m\u001B[0mx\u001B[0m\u001B[0;34m)\u001B[0m\u001B[0;34m\u001B[0m\u001B[0;34m\u001B[0m\u001B[0m\n\u001B[0m\u001B[1;32m      9\u001B[0m         \u001B[0;32mif\u001B[0m \u001B[0;34m(\u001B[0m\u001B[0mnp\u001B[0m\u001B[0;34m.\u001B[0m\u001B[0mlinalg\u001B[0m\u001B[0;34m.\u001B[0m\u001B[0mnorm\u001B[0m\u001B[0;34m(\u001B[0m\u001B[0mh\u001B[0m\u001B[0;34m)\u001B[0m \u001B[0;34m<\u001B[0m \u001B[0;36m0\u001B[0m\u001B[0;34m)\u001B[0m\u001B[0;34m:\u001B[0m\u001B[0;34m\u001B[0m\u001B[0;34m\u001B[0m\u001B[0m\n\u001B[1;32m     10\u001B[0m             \u001B[0mh\u001B[0m \u001B[0;34m=\u001B[0m \u001B[0mmake_hessian_positive\u001B[0m\u001B[0;34m(\u001B[0m\u001B[0mh\u001B[0m\u001B[0;34m)\u001B[0m\u001B[0;34m\u001B[0m\u001B[0;34m\u001B[0m\u001B[0m\n",
      "\u001B[0;32m<ipython-input-9-22583a3ceb84>\u001B[0m in \u001B[0;36mcalc_inv_hessian\u001B[0;34m(func, params)\u001B[0m\n\u001B[1;32m      5\u001B[0m     \u001B[0mh\u001B[0m \u001B[0;34m=\u001B[0m \u001B[0;34m[\u001B[0m\u001B[0;34m[\u001B[0m\u001B[0;36m0\u001B[0m \u001B[0;32mfor\u001B[0m \u001B[0mx\u001B[0m \u001B[0;32min\u001B[0m \u001B[0mrange\u001B[0m\u001B[0;34m(\u001B[0m\u001B[0mn\u001B[0m\u001B[0;34m)\u001B[0m\u001B[0;34m]\u001B[0m \u001B[0;32mfor\u001B[0m \u001B[0my\u001B[0m \u001B[0;32min\u001B[0m \u001B[0mrange\u001B[0m\u001B[0;34m(\u001B[0m\u001B[0mn\u001B[0m\u001B[0;34m)\u001B[0m\u001B[0;34m]\u001B[0m\u001B[0;34m\u001B[0m\u001B[0;34m\u001B[0m\u001B[0m\n\u001B[1;32m      6\u001B[0m     \u001B[0;32mfor\u001B[0m \u001B[0mi\u001B[0m \u001B[0;32min\u001B[0m \u001B[0mrange\u001B[0m\u001B[0;34m(\u001B[0m\u001B[0mlen\u001B[0m\u001B[0;34m(\u001B[0m\u001B[0mdfs\u001B[0m\u001B[0;34m)\u001B[0m\u001B[0;34m)\u001B[0m\u001B[0;34m:\u001B[0m\u001B[0;34m\u001B[0m\u001B[0;34m\u001B[0m\u001B[0m\n\u001B[0;32m----> 7\u001B[0;31m         \u001B[0mh\u001B[0m\u001B[0;34m[\u001B[0m\u001B[0mi\u001B[0m\u001B[0;34m]\u001B[0m \u001B[0;34m=\u001B[0m \u001B[0mget_dfs\u001B[0m\u001B[0;34m(\u001B[0m\u001B[0mdfs\u001B[0m\u001B[0;34m[\u001B[0m\u001B[0mi\u001B[0m\u001B[0;34m]\u001B[0m\u001B[0;34m)\u001B[0m\u001B[0;34m\u001B[0m\u001B[0;34m\u001B[0m\u001B[0m\n\u001B[0m\u001B[1;32m      8\u001B[0m \u001B[0;34m\u001B[0m\u001B[0m\n\u001B[1;32m      9\u001B[0m     \u001B[0;32mfor\u001B[0m \u001B[0mi\u001B[0m \u001B[0;32min\u001B[0m \u001B[0mrange\u001B[0m\u001B[0;34m(\u001B[0m\u001B[0mn\u001B[0m\u001B[0;34m)\u001B[0m\u001B[0;34m:\u001B[0m\u001B[0;34m\u001B[0m\u001B[0;34m\u001B[0m\u001B[0m\n",
      "\u001B[0;32m<ipython-input-7-8153b62fe510>\u001B[0m in \u001B[0;36mget_dfs\u001B[0;34m(func)\u001B[0m\n\u001B[1;32m      1\u001B[0m \u001B[0;32mdef\u001B[0m \u001B[0mget_dfs\u001B[0m\u001B[0;34m(\u001B[0m\u001B[0mfunc\u001B[0m\u001B[0;34m)\u001B[0m\u001B[0;34m:\u001B[0m\u001B[0;34m\u001B[0m\u001B[0;34m\u001B[0m\u001B[0m\n\u001B[1;32m      2\u001B[0m     \u001B[0marg_symbols\u001B[0m \u001B[0;34m=\u001B[0m \u001B[0msymbols\u001B[0m\u001B[0;34m(\u001B[0m\u001B[0minspect\u001B[0m\u001B[0;34m.\u001B[0m\u001B[0mgetfullargspec\u001B[0m\u001B[0;34m(\u001B[0m\u001B[0mfunc\u001B[0m\u001B[0;34m)\u001B[0m\u001B[0;34m.\u001B[0m\u001B[0margs\u001B[0m\u001B[0;34m)\u001B[0m\u001B[0;34m\u001B[0m\u001B[0;34m\u001B[0m\u001B[0m\n\u001B[0;32m----> 3\u001B[0;31m     \u001B[0msym_func\u001B[0m \u001B[0;34m=\u001B[0m \u001B[0mfunc\u001B[0m\u001B[0;34m(\u001B[0m\u001B[0;34m*\u001B[0m\u001B[0marg_symbols\u001B[0m\u001B[0;34m)\u001B[0m\u001B[0;34m\u001B[0m\u001B[0;34m\u001B[0m\u001B[0m\n\u001B[0m\u001B[1;32m      4\u001B[0m \u001B[0;34m\u001B[0m\u001B[0m\n\u001B[1;32m      5\u001B[0m     \u001B[0;32mreturn\u001B[0m \u001B[0;34m[\u001B[0m\u001B[0mlambdify\u001B[0m\u001B[0;34m(\u001B[0m\u001B[0marg_symbols\u001B[0m\u001B[0;34m,\u001B[0m \u001B[0msym_func\u001B[0m\u001B[0;34m.\u001B[0m\u001B[0mdiff\u001B[0m\u001B[0;34m(\u001B[0m\u001B[0ma\u001B[0m\u001B[0;34m)\u001B[0m\u001B[0;34m)\u001B[0m \u001B[0;32mfor\u001B[0m \u001B[0ma\u001B[0m \u001B[0;32min\u001B[0m \u001B[0marg_symbols\u001B[0m\u001B[0;34m]\u001B[0m\u001B[0;34m\u001B[0m\u001B[0;34m\u001B[0m\u001B[0m\n",
      "\u001B[0;32m<lambdifygenerated-50423>\u001B[0m in \u001B[0;36m_lambdifygenerated\u001B[0;34m(x, y)\u001B[0m\n\u001B[1;32m      1\u001B[0m \u001B[0;32mdef\u001B[0m \u001B[0m_lambdifygenerated\u001B[0m\u001B[0;34m(\u001B[0m\u001B[0mx\u001B[0m\u001B[0;34m,\u001B[0m \u001B[0my\u001B[0m\u001B[0;34m)\u001B[0m\u001B[0;34m:\u001B[0m\u001B[0;34m\u001B[0m\u001B[0;34m\u001B[0m\u001B[0m\n\u001B[0;32m----> 2\u001B[0;31m     \u001B[0;32mreturn\u001B[0m \u001B[0;34m(\u001B[0m\u001B[0;34m-\u001B[0m\u001B[0;36m3\u001B[0m\u001B[0;34m*\u001B[0m\u001B[0;34m(\u001B[0m\u001B[0;36m4\u001B[0m\u001B[0;34m/\u001B[0m\u001B[0;36m9\u001B[0m \u001B[0;34m-\u001B[0m \u001B[0;36m2\u001B[0m\u001B[0;34m/\u001B[0m\u001B[0;36m9\u001B[0m\u001B[0;34m*\u001B[0m\u001B[0mx\u001B[0m\u001B[0;34m)\u001B[0m\u001B[0;34m*\u001B[0m\u001B[0mexp\u001B[0m\u001B[0;34m(\u001B[0m\u001B[0;34m-\u001B[0m\u001B[0;34m(\u001B[0m\u001B[0;34m(\u001B[0m\u001B[0;36m1\u001B[0m\u001B[0;34m/\u001B[0m\u001B[0;36m3\u001B[0m\u001B[0;34m)\u001B[0m\u001B[0;34m*\u001B[0m\u001B[0mx\u001B[0m \u001B[0;34m-\u001B[0m \u001B[0;36m2\u001B[0m\u001B[0;34m/\u001B[0m\u001B[0;36m3\u001B[0m\u001B[0;34m)\u001B[0m\u001B[0;34m**\u001B[0m\u001B[0;36m2\u001B[0m \u001B[0;34m-\u001B[0m \u001B[0;34m(\u001B[0m\u001B[0;34m(\u001B[0m\u001B[0;36m1\u001B[0m\u001B[0;34m/\u001B[0m\u001B[0;36m2\u001B[0m\u001B[0;34m)\u001B[0m\u001B[0;34m*\u001B[0m\u001B[0my\u001B[0m \u001B[0;34m-\u001B[0m \u001B[0;36m3\u001B[0m\u001B[0;34m/\u001B[0m\u001B[0;36m2\u001B[0m\u001B[0;34m)\u001B[0m\u001B[0;34m**\u001B[0m\u001B[0;36m2\u001B[0m\u001B[0;34m)\u001B[0m \u001B[0;34m-\u001B[0m \u001B[0;36m2\u001B[0m\u001B[0;34m*\u001B[0m\u001B[0;34m(\u001B[0m\u001B[0;36m1\u001B[0m\u001B[0;34m/\u001B[0m\u001B[0;36m2\u001B[0m \u001B[0;34m-\u001B[0m \u001B[0;36m1\u001B[0m\u001B[0;34m/\u001B[0m\u001B[0;36m2\u001B[0m\u001B[0;34m*\u001B[0m\u001B[0mx\u001B[0m\u001B[0;34m)\u001B[0m\u001B[0;34m*\u001B[0m\u001B[0mexp\u001B[0m\u001B[0;34m(\u001B[0m\u001B[0;34m-\u001B[0m\u001B[0;34m(\u001B[0m\u001B[0;34m(\u001B[0m\u001B[0;36m1\u001B[0m\u001B[0;34m/\u001B[0m\u001B[0;36m2\u001B[0m\u001B[0;34m)\u001B[0m\u001B[0;34m*\u001B[0m\u001B[0mx\u001B[0m \u001B[0;34m-\u001B[0m \u001B[0;36m1\u001B[0m\u001B[0;34m/\u001B[0m\u001B[0;36m2\u001B[0m\u001B[0;34m)\u001B[0m\u001B[0;34m**\u001B[0m\u001B[0;36m2\u001B[0m \u001B[0;34m-\u001B[0m \u001B[0;34m(\u001B[0m\u001B[0my\u001B[0m \u001B[0;34m-\u001B[0m \u001B[0;36m1\u001B[0m\u001B[0;34m)\u001B[0m\u001B[0;34m**\u001B[0m\u001B[0;36m2\u001B[0m\u001B[0;34m)\u001B[0m\u001B[0;34m)\u001B[0m\u001B[0;34m\u001B[0m\u001B[0;34m\u001B[0m\u001B[0m\n\u001B[0m",
      "\u001B[0;31mTypeError\u001B[0m: loop of ufunc does not support argument 0 of type Add which has no callable exp method"
     ]
    }
   ],
   "source": [
    "all_iters = {}\n",
    "all_times = {}\n",
    "\n",
    "for name, m in methods.items():\n",
    "    all_iters[name] = []\n",
    "    all_times[name] = []\n",
    "    for f_ in f:\n",
    "        for x_ in x:\n",
    "            _, steps, time, _ = m(f_, x_)\n",
    "            all_iters[name].append(steps)\n",
    "            all_times[name].append(time)\n",
    "    \n",
    "fig, (ax1, ax2) = plt.subplots(1, 2)\n",
    "fig.suptitle('Statistics')\n",
    "fig.set_figheight(5)\n",
    "fig.set_figwidth(15)\n",
    "\n",
    "i = 0\n",
    "for name in methods.keys():\n",
    "    ax1.plot(np.arange(0, len(all_iters[name])), all_iters[name], color = colors[i])\n",
    "    i += 1\n",
    "ax1.legend(methods.keys())\n",
    "ax1.set_title('')\n",
    "ax1.set_xlabel('')\n",
    "ax1.set_ylabel('Total iterations')\n",
    "ax1.grid(True)\n",
    "# ax1.show()\n",
    "\n",
    "i = 0\n",
    "for name in methods.keys():\n",
    "    ax2.plot(np.arange(0, len(all_times[name])), all_times[name], color = colors[i])\n",
    "    i += 1\n",
    "ax2.legend(methods.keys())\n",
    "ax2.set_title('')\n",
    "ax2.set_xlabel('')\n",
    "ax2.set_ylabel('Time')\n",
    "ax2.grid(True)\n",
    "\n",
    "plt.show()\n",
    "\n",
    "\n",
    "fig.savefig('images/stats.png')"
   ]
  }
 ],
 "metadata": {
  "kernelspec": {
   "display_name": "Python 3",
   "language": "python",
   "name": "python3"
  },
  "language_info": {
   "codemirror_mode": {
    "name": "ipython",
    "version": 3
   },
   "file_extension": ".py",
   "mimetype": "text/x-python",
   "name": "python",
   "nbconvert_exporter": "python",
   "pygments_lexer": "ipython3",
   "version": "3.7.3"
  },
  "toc": {
   "base_numbering": 1,
   "nav_menu": {},
   "number_sections": true,
   "sideBar": true,
   "skip_h1_title": false,
   "title_cell": "Table of Contents",
   "title_sidebar": "Contents",
   "toc_cell": false,
   "toc_position": {
    "height": "calc(100% - 180px)",
    "left": "10px",
    "top": "150px",
    "width": "207px"
   },
   "toc_section_display": true,
   "toc_window_display": true
  }
 },
 "nbformat": 4,
 "nbformat_minor": 4
}